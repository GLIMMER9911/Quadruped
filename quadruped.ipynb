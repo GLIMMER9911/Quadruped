{
 "cells": [
  {
   "cell_type": "code",
   "execution_count": 3,
   "metadata": {},
   "outputs": [],
   "source": [
    "import time\n",
    "import crocoddyl\n",
    "import pinocchio\n",
    "import numpy as np\n",
    "from pinocchio.robot_wrapper import RobotWrapper"
   ]
  },
  {
   "cell_type": "code",
   "execution_count": 4,
   "metadata": {},
   "outputs": [
    {
     "name": "stdout",
     "output_type": "stream",
     "text": [
      "You can open the visualizer by visiting the following URL:\n",
      "http://127.0.0.1:7000/static/\n"
     ]
    }
   ],
   "source": [
    "# load go2 robot\n",
    "modelPath = \"/home/dong/humanrobot/quadruped/robot/\"\n",
    "URDF_FILENAME = \"go2_description.urdf\"\n",
    "\n",
    "Robot_Go2 = RobotWrapper.BuildFromURDF(modelPath + URDF_FILENAME, modelPath,\n",
    "                pinocchio.JointModelFreeFlyer()) # Load URDF file\n",
    "model = Robot_Go2.model\n",
    "\n",
    "lfFoot, rfFoot, lhFoot, rhFoot = \"FL_foot\", \"FR_foot\", \"RL_foot\", \"RR_foot\"\n",
    "\n",
    "display = crocoddyl.MeshcatDisplay(\n",
    "    Robot_Go2, frameNames=[lfFoot, rfFoot, lhFoot, rhFoot])\n",
    "\n",
    "q0 = pinocchio.utils.zero(model.nq)\n",
    "q0[2] = 0.325 # z\n",
    "q0[6] = 1  # q.w 7+12\n",
    "q0[7:] = [0., np.pi/4, -np.pi/2, 0., np.pi/4, -np.pi/2, 0.,np.pi/4,-np.pi/2, 0.,np.pi/4,-np.pi/2]\n",
    "\n",
    "v0 = pinocchio.utils.zero(Robot_Go2.model.nv)\n",
    "x0 = np.concatenate([q0, v0])\n",
    "display.display([x0])\n",
    "time.sleep(0.05)"
   ]
  },
  {
   "cell_type": "code",
   "execution_count": 5,
   "metadata": {},
   "outputs": [
    {
     "ename": "KeyError",
     "evalue": "'Invalid key'",
     "output_type": "error",
     "traceback": [
      "\u001b[0;31m---------------------------------------------------------------------------\u001b[0m",
      "\u001b[0;31mKeyError\u001b[0m                                  Traceback (most recent call last)",
      "Cell \u001b[0;32mIn[5], line 2\u001b[0m\n\u001b[1;32m      1\u001b[0m \u001b[38;5;28;01mfrom\u001b[39;00m \u001b[38;5;21;01mcrocoddyl\u001b[39;00m\u001b[38;5;21;01m.\u001b[39;00m\u001b[38;5;21;01mutils\u001b[39;00m\u001b[38;5;21;01m.\u001b[39;00m\u001b[38;5;21;01mquadruped\u001b[39;00m \u001b[38;5;28;01mimport\u001b[39;00m SimpleQuadrupedalGaitProblem, plotSolution\n\u001b[0;32m----> 2\u001b[0m gait \u001b[38;5;241m=\u001b[39m \u001b[43mSimpleQuadrupedalGaitProblem\u001b[49m\u001b[43m(\u001b[49m\u001b[43mRobot_Go2\u001b[49m\u001b[38;5;241;43m.\u001b[39;49m\u001b[43mmodel\u001b[49m\u001b[43m,\u001b[49m\u001b[43m \u001b[49m\u001b[43mlfFoot\u001b[49m\u001b[43m,\u001b[49m\u001b[43m \u001b[49m\u001b[43mrfFoot\u001b[49m\u001b[43m,\u001b[49m\u001b[43m \u001b[49m\u001b[43mlhFoot\u001b[49m\u001b[43m,\u001b[49m\u001b[43m \u001b[49m\u001b[43mrhFoot\u001b[49m\u001b[43m)\u001b[49m\n\u001b[1;32m      4\u001b[0m \u001b[38;5;66;03m# Setting up all tasks\u001b[39;00m\n\u001b[1;32m      5\u001b[0m GAITPHASES \u001b[38;5;241m=\u001b[39m [\n\u001b[1;32m      6\u001b[0m     {\n\u001b[1;32m      7\u001b[0m         \u001b[38;5;124m\"\u001b[39m\u001b[38;5;124mwalking\u001b[39m\u001b[38;5;124m\"\u001b[39m: {\n\u001b[0;32m   (...)\u001b[0m\n\u001b[1;32m     50\u001b[0m     },\n\u001b[1;32m     51\u001b[0m ]\n",
      "File \u001b[0;32m~/anaconda3/envs/cro/lib/python3.8/site-packages/crocoddyl/utils/quadruped.py:60\u001b[0m, in \u001b[0;36mSimpleQuadrupedalGaitProblem.__init__\u001b[0;34m(self, rmodel, lfFoot, rfFoot, lhFoot, rhFoot, integrator, control, fwddyn)\u001b[0m\n\u001b[1;32m     57\u001b[0m \u001b[38;5;28mself\u001b[39m\u001b[38;5;241m.\u001b[39m_fwddyn \u001b[38;5;241m=\u001b[39m fwddyn\n\u001b[1;32m     59\u001b[0m \u001b[38;5;66;03m# Defining default state\u001b[39;00m\n\u001b[0;32m---> 60\u001b[0m q0 \u001b[38;5;241m=\u001b[39m \u001b[38;5;28;43mself\u001b[39;49m\u001b[38;5;241;43m.\u001b[39;49m\u001b[43mrmodel\u001b[49m\u001b[38;5;241;43m.\u001b[39;49m\u001b[43mreferenceConfigurations\u001b[49m\u001b[43m[\u001b[49m\u001b[38;5;124;43m\"\u001b[39;49m\u001b[38;5;124;43mstanding\u001b[39;49m\u001b[38;5;124;43m\"\u001b[39;49m\u001b[43m]\u001b[49m\n\u001b[1;32m     61\u001b[0m \u001b[38;5;28mself\u001b[39m\u001b[38;5;241m.\u001b[39mrmodel\u001b[38;5;241m.\u001b[39mdefaultState \u001b[38;5;241m=\u001b[39m np\u001b[38;5;241m.\u001b[39mconcatenate([q0, np\u001b[38;5;241m.\u001b[39mzeros(\u001b[38;5;28mself\u001b[39m\u001b[38;5;241m.\u001b[39mrmodel\u001b[38;5;241m.\u001b[39mnv)])\n\u001b[1;32m     62\u001b[0m \u001b[38;5;28mself\u001b[39m\u001b[38;5;241m.\u001b[39mfirstStep \u001b[38;5;241m=\u001b[39m \u001b[38;5;28;01mTrue\u001b[39;00m\n",
      "\u001b[0;31mKeyError\u001b[0m: 'Invalid key'"
     ]
    }
   ],
   "source": [
    "from crocoddyl.utils.quadruped import SimpleQuadrupedalGaitProblem, plotSolution\n",
    "Robot_Go2.model.referenceConfigurations[\"standing\"] = q0\n",
    "gait = SimpleQuadrupedalGaitProblem(Robot_Go2.model, lfFoot, rfFoot, lhFoot, rhFoot)\n",
    "\n",
    "# Setting up all tasks\n",
    "GAITPHASES = [\n",
    "    {\n",
    "        \"walking\": {\n",
    "            \"stepLength\": 0.25,\n",
    "            \"stepHeight\": 0.15,\n",
    "            \"timeStep\": 1e-2,\n",
    "            \"stepKnots\": 25,\n",
    "            \"supportKnots\": 2,\n",
    "        }\n",
    "    },\n",
    "    {\n",
    "        \"trotting\": {\n",
    "            \"stepLength\": 0.15,\n",
    "            \"stepHeight\": 0.1,\n",
    "            \"timeStep\": 1e-2,\n",
    "            \"stepKnots\": 25,\n",
    "            \"supportKnots\": 2,\n",
    "        }\n",
    "    },\n",
    "    {\n",
    "        \"pacing\": {\n",
    "            \"stepLength\": 0.15,\n",
    "            \"stepHeight\": 0.1,\n",
    "            \"timeStep\": 1e-2,\n",
    "            \"stepKnots\": 25,\n",
    "            \"supportKnots\": 5,\n",
    "        }\n",
    "    },\n",
    "    {\n",
    "        \"bounding\": {\n",
    "            \"stepLength\": 0.15,\n",
    "            \"stepHeight\": 0.1,\n",
    "            \"timeStep\": 1e-2,\n",
    "            \"stepKnots\": 25,\n",
    "            \"supportKnots\": 5,\n",
    "        }\n",
    "    },\n",
    "    {\n",
    "        \"jumping\": {\n",
    "            \"jumpHeight\": 0.15,\n",
    "            \"jumpLength\": [0.0, 0.3, 0.0],\n",
    "            \"timeStep\": 1e-2,\n",
    "            \"groundKnots\": 10,\n",
    "            \"flyingKnots\": 20,\n",
    "        }\n",
    "    },\n",
    "]\n",
    "\n"
   ]
  }
 ],
 "metadata": {
  "kernelspec": {
   "display_name": "cro",
   "language": "python",
   "name": "python3"
  },
  "language_info": {
   "codemirror_mode": {
    "name": "ipython",
    "version": 3
   },
   "file_extension": ".py",
   "mimetype": "text/x-python",
   "name": "python",
   "nbconvert_exporter": "python",
   "pygments_lexer": "ipython3",
   "version": "3.8.19"
  }
 },
 "nbformat": 4,
 "nbformat_minor": 2
}
